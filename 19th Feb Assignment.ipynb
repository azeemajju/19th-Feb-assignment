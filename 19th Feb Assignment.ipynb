{
 "cells": [
  {
   "cell_type": "markdown",
   "id": "ac5a2781",
   "metadata": {},
   "source": [
    "(Q1):What is Flask Framework? What are the advantages of Flask Framework?\n",
    "\n",
    "Ans:Flask is a lightweight and flexible Python web framework that enables developers to build web applications quickly and easily. Flask provides a simple and intuitive way to handle web requests and responses, and it can be used to create a wide range of web applications, including blogs, e-commerce sites, and social networking platforms."
   ]
  },
  {
   "cell_type": "markdown",
   "id": "2662ae02",
   "metadata": {},
   "source": [
    "Q2. Create a simple Flask application to display ‘Hello World!!’. Attach the screenshot of the output in\n",
    "Jupyter Notebook."
   ]
  },
  {
   "cell_type": "code",
   "execution_count": null,
   "id": "b895f5b2",
   "metadata": {},
   "outputs": [],
   "source": [
    "from flask import Flask\n",
    "\n",
    "app = Flask(__name__)\n",
    "\n",
    "\n",
    "@app.route(\"/f\")\n",
    "def fun():\n",
    "    return \"Hello World\"\n",
    "\n",
    "if __name__==\"__main__\":\n",
    "    app.run(host=\"0.0.0.0\")"
   ]
  },
  {
   "cell_type": "markdown",
   "id": "1f1eb5d1",
   "metadata": {},
   "source": [
    "Q3. What is App routing in Flask? Why do we use app routes?\n",
    "\n",
    "\n",
    "Ans :In Flask, app routing is the process of mapping URLs to functions that handle those URLs. App routing is an important part of creating a Flask web application because it enables developers to specify how incoming requests should be handled and what response should be returned.\n",
    "\n",
    "In Flask, app routing is achieved using the @app.route() decorator. This decorator is used to specify the URL that should be associated with a particular function.\n"
   ]
  },
  {
   "cell_type": "markdown",
   "id": "10b4f6e5",
   "metadata": {},
   "source": [
    "Q4. Create a “/welcome” route to display the welcome message “Welcome to ABC Corporation” and a “/”\n",
    "route to show the following details:\n",
    "Company Name: ABC Corporation\n",
    "Location: India\n",
    "Contact Detail: 999-999-9999"
   ]
  },
  {
   "cell_type": "code",
   "execution_count": null,
   "id": "3de0fe21",
   "metadata": {},
   "outputs": [],
   "source": [
    "from flask import Flask\n",
    "\n",
    "\n",
    "app = Flask( __name__)\n",
    "\n",
    "@app.route(\"/welcome\")\n",
    "def fun1():\n",
    "    return \"Welcome to ABC Coporation\"\n",
    "@app.route(\"/\")\n",
    "def fun2():\n",
    "    return  \"<h1>Company Information</h1><p>Company Name: ABC Corporation<br>Location: India<br>Contact Detail: 999-999-9999</p>\"\n",
    "\n",
    "\n",
    "if __name__==\"__main__\":\n",
    "    app.run(host=\"0.0.0.0\")   \n",
    "    "
   ]
  },
  {
   "cell_type": "markdown",
   "id": "9a2bdb22",
   "metadata": {},
   "source": [
    "Q5. What function is used in Flask for URL Building? Write a Python code to demonstrate the working of the\n",
    "url_for() function."
   ]
  },
  {
   "cell_type": "code",
   "execution_count": null,
   "id": "312c9103",
   "metadata": {},
   "outputs": [],
   "source": [
    "from flask import Flask,redirect, url_for\n",
    "\n",
    "app = Flask(__name__)\n",
    "\n",
    "@app.route(\"/\")\n",
    "def welcome():\n",
    "    return \"Welcome To PWskills Site\"\n",
    "\n",
    "@app.route(\"/student\")\n",
    "def student():\n",
    "    return \"Hello Students To kaise hai aaplog\"\n",
    "\n",
    "@app.route(\"/faculty\")\n",
    "def faculty():\n",
    "    return \"Hello Teacher's Welocome to pwskill Faculty\"\n",
    "@app.route(\"/user/<name>\")\n",
    "def user(name):\n",
    "    if name == \"student\":\n",
    "        return redirect(url_for(\"student\"))\n",
    "    if name == \"faculty\":\n",
    "        return redirect(url_for(\"faculty\"))\n",
    "\n",
    "if __name__==\"__main__\":\n",
    "    app.run(debug=True)"
   ]
  },
  {
   "cell_type": "code",
   "execution_count": null,
   "id": "fc0cd5e7",
   "metadata": {},
   "outputs": [],
   "source": []
  },
  {
   "cell_type": "code",
   "execution_count": null,
   "id": "145e219d",
   "metadata": {},
   "outputs": [],
   "source": []
  },
  {
   "cell_type": "code",
   "execution_count": null,
   "id": "7052cd7e",
   "metadata": {},
   "outputs": [],
   "source": []
  },
  {
   "cell_type": "code",
   "execution_count": null,
   "id": "1134f357",
   "metadata": {},
   "outputs": [],
   "source": []
  }
 ],
 "metadata": {
  "kernelspec": {
   "display_name": "Python 3 (ipykernel)",
   "language": "python",
   "name": "python3"
  },
  "language_info": {
   "codemirror_mode": {
    "name": "ipython",
    "version": 3
   },
   "file_extension": ".py",
   "mimetype": "text/x-python",
   "name": "python",
   "nbconvert_exporter": "python",
   "pygments_lexer": "ipython3",
   "version": "3.9.13"
  }
 },
 "nbformat": 4,
 "nbformat_minor": 5
}
